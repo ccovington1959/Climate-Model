{
 "cells": [
  {
   "cell_type": "code",
   "execution_count": 1,
   "metadata": {},
   "outputs": [],
   "source": [
    "%matplotlib inline\n",
    "from pylab import *\n",
    "import numpy as np"
   ]
  },
  {
   "cell_type": "code",
   "execution_count": 2,
   "metadata": {},
   "outputs": [],
   "source": [
    "Tice = 271.15            # temperature of ice\n",
    "H = 1                    # heat capacity of upper ocean layer\n",
    "F0 = 3.0                 # F_0 value to be used to find value of atmospheric heat transport parameter\n",
    "A = -49.7                # Budyko-Sellers constant\n",
    "B = 0.29                 # Budyko-Sellers constant\n",
    "alpha = 0.29             # effective ice albedo\n",
    "epsilon = [[1.0,0.0],[0.0,1.0]]            # forcing parameter matrix\n",
    "length = len(epsilon)\n",
    "S1 = 40.9                # net incoming solar flux for T_1 box\n",
    "S2 = 24.1                # net incoming solar flux for T_2 box\n",
    "gamma1 = 0.035           # constant used to find value of atmospheric heat transport parameter\n",
    "gamma2 = 0.002852        # constant used to find value of atmospheric heat transport parameter\n",
    "T10 = 280.0              # initial temperature of T_1 box in kelvin\n",
    "T20 = 260.0              # initial temperature of T_2 box in kelvin"
   ]
  },
  {
   "cell_type": "code",
   "execution_count": 3,
   "metadata": {},
   "outputs": [],
   "source": [
    "def HdT1(F,T1,epsilon): # function that gives the value of H*dT_1/dt\n",
    "    return S1-F-(A+B*T1)+epsilon\n",
    "\n",
    "def HdT2(a,F,T2,epsilon): # function that gives the value of H*dT_2/dt\n",
    "    return S2*(1-2*alpha*a)+F-(A+B*T2)+epsilon\n",
    "\n",
    "def C(T1):               # function that gives value of C(T_1)\n",
    "    top = T1 - 273.15    # top of fraction in exponential\n",
    "    bottom = T1 - 35.86  # bottom of fraction in exponential\n",
    "    fract = top / bottom # fraction in exponential\n",
    "    return 6.11 * exp(17.23 * fract)\n",
    "\n",
    "def newF(T1,T2): # function that gives value of atmospheric heat transport parameter\n",
    "    return F0 + gamma1 * (T1 - T2) + gamma2 * C(T1) * (T1 - T2)\n",
    "\n",
    "def newa(T1,T2): # function that gives value of fractional area of hemisphere covered in ice\n",
    "    phiicedeg = 30 + 30 * (T1 - Tice) / (T1 - T2) # phi_ice in degrees\n",
    "    phiicerad = phiicedeg * pi / 180.0            # phi_ice in radians\n",
    "    return 1 - sin(phiicerad)"
   ]
  },
  {
   "cell_type": "code",
   "execution_count": 4,
   "metadata": {},
   "outputs": [
    {
     "data": {
      "image/png": "[encoded data removed]",
      "text/plain": [
       "<matplotlib.figure.Figure at 0x7cc6ba8>"
      ]
     },
     "metadata": {},
     "output_type": "display_data"
    }
   ],
   "source": [
    "# With all feedbacks on and no forcing\n",
    "dt = 1.0                 # time step\n",
    "maxtime = 1000            # length of simulation\n",
    "t = arange(0,maxtime,dt) # time array\n",
    "T1 = zeros(maxtime)   # temperature array for T_1 box\n",
    "T2 = zeros(maxtime)   # temperature array for T_2 box\n",
    "a = zeros(maxtime)    # fractional area of hemisphere covered in ice array\n",
    "F = zeros(maxtime)    # atmospheric heat transport array\n",
    "T1[0] = T10           # sets initial temperature for T_1 box\n",
    "T2[0] = T20           # sets initial temperature for T_2 box\n",
    "for i in range(0,len(t)-1):                   # creates loop that cycles through all of the arrays\n",
    "    F[i] = newF(T1[i],T2[i]) # sets new F value\n",
    "    a[i] = newa(T1[i],T2[i])             # sets new a value\n",
    "    T1[i+1] = T1[i] + (HdT1(F[i],T1[i],0.0)) / H * dt             # updates temperature for T_1 box\n",
    "    T2[i+1] = T2[i] + (HdT2(a[i],F[i],T2[i],0.0)) / H * dt  # updates temperature for T_2 box\n",
    "plot(t,T1,label=\"$T_1$\")        # plots temperature vs time graph for T_1 box\n",
    "plot(t,T2,label=\"$T_2$\")        # plots temperature vs time graph for T_2 box\n",
    "legend(loc=\"best\")\n",
    "ylabel(\"Temperature (Kelvin)\")\n",
    "xlabel(\"Time (Years)\")\n",
    "title(\"Temperature vs Time\")\n",
    "show()"
   ]
  },
  {
   "cell_type": "code",
   "execution_count": 5,
   "metadata": {},
   "outputs": [
    {
     "name": "stdout",
     "output_type": "stream",
     "text": [
      "0.20123578072486314 5.762513541945422\n"
     ]
    }
   ],
   "source": [
    "aeq = a[-2]             # a value at equilibrium\n",
    "Feq = F[-2]\n",
    "print(aeq,Feq)"
   ]
  },
  {
   "cell_type": "code",
   "execution_count": 6,
   "metadata": {},
   "outputs": [
    {
     "data": {
      "image/png": "[encoded data removed]",
      "text/plain": [
       "<matplotlib.figure.Figure at 0x4aa2358>"
      ]
     },
     "metadata": {},
     "output_type": "display_data"
    },
    {
     "name": "stdout",
     "output_type": "stream",
     "text": [
      "[[1.69133633 3.45212648]\n",
      " [1.69133633 3.45212648]]\n"
     ]
    }
   ],
   "source": [
    "# With all feedbacks on\n",
    "t = arange(0,maxtime,dt) # time array\n",
    "Tfon = zeros((2,length,maxtime))\n",
    "Teqfon = zeros((2,2))\n",
    "dTfon = zeros((2,2))\n",
    "a = zeros((length,maxtime))    # fractional area of hemisphere covered in ice array\n",
    "F = zeros((length,maxtime))    # atmospheric heat transport array\n",
    "Tfon[0,:,0] = T10           # sets initial temperature for T_1 box\n",
    "Tfon[1,:,0] = T20           # sets initial temperature for T_2 box\n",
    "for i in range(0,length):\n",
    "    for j in range(0,len(t)-1):   # creates loop that cycles through all of the arrays\n",
    "        F[i][j] = newF(Tfon[0][i][j],Tfon[1][i][j]) # sets new F value\n",
    "        a[i][j] = newa(Tfon[0][i][j],Tfon[1][i][j])             # sets new a value  \n",
    "        if j < maxtime / 2.0:\n",
    "            Teqfon[i][0] = Tfon[0][i][j]\n",
    "            Teqfon[i][1] = Tfon[1][i][j]\n",
    "            Tfon[0][i][j+1] = Tfon[0][i][j] + (HdT1(F[i][j],Tfon[0][i][j],0.0)) / H * dt             # updates temperature for T_1 box\n",
    "            Tfon[1][i][j+1] = Tfon[1][i][j] + (HdT2(a[i][j],F[i][j],Tfon[1][i][j],0.0)) / H * dt  # updates temperature for T_2 box\n",
    "        else:\n",
    "            Tfon[0][i][j+1] = Tfon[0][i][j] + (HdT1(F[i][j],Tfon[0][i][j],0.5)) / H * dt#epsilon[i][0])) / H * dt             # updates temperature for T_1 box\n",
    "            Tfon[1][i][j+1] = Tfon[1][i][j] + (HdT2(a[i][j],F[i][j],Tfon[1][i][j],0.5)) / H * dt#epsilon[i][1])) / H * dt  # updates temperature for T_2 box\n",
    "    dTfon[i][0] = Tfon[0][i][-1] - Teqfon[i][0]\n",
    "    dTfon[i][1] = Tfon[1][i][-1] - Teqfon[i][1]\n",
    "plot(t,Tfon[0][0],label=\"$T_1$\")        # plots temperature vs time graph for T_1 box\n",
    "plot(t,Tfon[1][0],label=\"$T_2$\")        # plots temperature vs time graph for T_2 box\n",
    "legend(loc=\"best\")\n",
    "ylabel(\"Temperature (Kelvin)\")\n",
    "xlabel(\"Time (Years)\")\n",
    "title(\"Temperature vs Time\")\n",
    "show()\n",
    "print(dTfon)"
   ]
  },
  {
   "cell_type": "code",
   "execution_count": 7,
   "metadata": {},
   "outputs": [
    {
     "name": "stdout",
     "output_type": "stream",
     "text": [
      "[[1.69133633 1.69133633]\n",
      " [3.45212648 3.45212648]]\n"
     ]
    }
   ],
   "source": [
    "lambdafon = np.matrix.transpose(dTfon)\n",
    "print(lambdafon)"
   ]
  },
  {
   "cell_type": "code",
   "execution_count": 8,
   "metadata": {},
   "outputs": [
    {
     "data": {
      "image/png": "[encoded data removed]",
      "text/plain": [
       "<matplotlib.figure.Figure at 0x89a8f28>"
      ]
     },
     "metadata": {},
     "output_type": "display_data"
    }
   ],
   "source": [
    "# With all feedbacks off\n",
    "t = arange(0,maxtime,dt) # time array\n",
    "Tfoff = zeros((2,length,maxtime))\n",
    "Teqfoff = zeros((2,2))\n",
    "dTfoff = zeros((2,2))\n",
    "Tfoff[0,:,0] = T10           # sets initial temperature for T_1 box\n",
    "Tfoff[1,:,0] = T20           # sets initial temperature for T_2 box\n",
    "for i in range(0,length):\n",
    "    for j in range(0,len(t)-1):   # creates loop that cycles through all of the arrays\n",
    "        if j < maxtime / 2.0:\n",
    "            Teqfoff[i][0] = Tfoff[0][i][j]\n",
    "            Teqfoff[i][1] = Tfoff[1][i][j]\n",
    "            Tfoff[0][i][j+1] = Tfoff[0][i][j] + (HdT1(Feq,Tfoff[0][i][j],0.0)) / H * dt             # updates temperature for T_1 box\n",
    "            Tfoff[1][i][j+1] = Tfoff[1][i][j] + (HdT2(aeq,Feq,Tfoff[1][i][j],0.0)) / H * dt  # updates temperature for T_2 box\n",
    "        else:\n",
    "            Tfoff[0][i][j+1] = Tfoff[0][i][j] + (HdT1(Feq,Tfoff[0][i][j],epsilon[i][0])) / H * dt             # updates temperature for T_1 box\n",
    "            Tfoff[1][i][j+1] = Tfoff[1][i][j] + (HdT2(aeq,Feq,Tfoff[1][i][j],epsilon[i][1])) / H * dt  # updates temperature for T_2 box\n",
    "    dTfoff[i][0] = Tfoff[0][i][-1] - Teqfoff[i][0]\n",
    "    dTfoff[i][1] = Tfoff[1][i][-1] - Teqfoff[i][1]\n",
    "plot(t,Tfoff[0][0],label=\"$T_1$\")        # plots temperature vs time graph for T_1 box\n",
    "plot(t,Tfoff[1][0],label=\"$T_2$\")        # plots temperature vs time graph for T_2 box\n",
    "legend(loc=\"best\")\n",
    "ylabel(\"Temperature (Kelvin)\")\n",
    "xlabel(\"Time (Years)\")\n",
    "title(\"Temperature vs Time\")\n",
    "show()"
   ]
  },
  {
   "cell_type": "code",
   "execution_count": 9,
   "metadata": {},
   "outputs": [
    {
     "name": "stdout",
     "output_type": "stream",
     "text": [
      "[[3.44827586 0.        ]\n",
      " [0.         3.44827586]]\n"
     ]
    }
   ],
   "source": [
    "lambdafoff = np.matrix.transpose(dTfoff)\n",
    "print(lambdafoff)"
   ]
  },
  {
   "cell_type": "code",
   "execution_count": null,
   "metadata": {},
   "outputs": [],
   "source": []
  },
  {
   "cell_type": "code",
   "execution_count": 10,
   "metadata": {},
   "outputs": [
    {
     "data": {
      "image/png": "[encoded data removed]",
      "text/plain": [
       "<matplotlib.figure.Figure at 0x85f46d8>"
      ]
     },
     "metadata": {},
     "output_type": "display_data"
    }
   ],
   "source": [
    "# Top-down\n",
    "t = arange(0,maxtime,dt) # time array\n",
    "Ttd = zeros((2,length,maxtime))\n",
    "avgTtd = zeros((length,maxtime))\n",
    "Teqtd = zeros((2,2))\n",
    "dTtd = zeros((2,2))\n",
    "F = zeros((length,maxtime))    # atmospheric heat transport array\n",
    "Ttd[0,:,0] = T10           # sets initial temperature for T_1 box\n",
    "Ttd[1,:,0] = T20           # sets initial temperature for T_2 box\n",
    "avgTtd[:,0] = (T10 + T20) * 0.5\n",
    "for i in range(0,length):\n",
    "    for j in range(0,len(t)-1):   # creates loop that cycles through all of the arrays\n",
    "        F[i][j] = newF(Ttd[0][i][j],Ttd[1][i][j]) # sets new F value\n",
    "        if j < maxtime / 2.0:\n",
    "            Teqtd[i][0] = Ttd[0][i][j]\n",
    "            Teqtd[i][1] = Ttd[1][i][j]\n",
    "            Ttd[0][i][j+1] = Ttd[0][i][j] + (HdT1(F[i][j],Ttd[0][i][j],0.0)) / H * dt             # updates temperature for T_1 box\n",
    "            Ttd[1][i][j+1] = Ttd[1][i][j] + (HdT2(aeq,F[i][j],Ttd[1][i][j],0.0)) / H * dt  # updates temperature for T_2 box\n",
    "            avgTtd[i][j+1] = (Ttd[0][i][j+1] + Ttd[1][i][j+1]) * 0.5\n",
    "        else:\n",
    "            Ttd[0][i][j+1] = Ttd[0][i][j] + (HdT1(F[i][j],Ttd[0][i][j],epsilon[i][0])) / H * dt             # updates temperature for T_1 box\n",
    "            Ttd[1][i][j+1] = Ttd[1][i][j] + (HdT2(aeq,F[i][j],Ttd[1][i][j],epsilon[i][1])) / H * dt  # updates temperature for T_2 box\n",
    "            avgTtd[i][j+1] = (Ttd[0][i][j+1] + Ttd[1][i][j+1]) * 0.5\n",
    "    dTtd[i][0] = Ttd[0][i][-1] - Teqtd[i][0]\n",
    "    dTtd[i][1] = Ttd[1][i][-1] - Teqtd[i][1]\n",
    "plot(t,Ttd[0][0],label=\"$T_1$ with $\\epsilon_1=1$ and $\\epsilon_2=0$\")\n",
    "plot(t,Ttd[1][0],label=\"$T_2$ with $\\epsilon_1=1$ and $\\epsilon_2=0$\")\n",
    "plot(t,Ttd[0][1],label=\"$T_1$ with $\\epsilon_1=0$ and $\\epsilon_2=1$\")        # plots temperature vs time graph for T_1 box\n",
    "plot(t,Ttd[1][1],label=\"$T_2$ with $\\epsilon_1=0$ and $\\epsilon_2=1$\")        # plots temperature vs time graph for T_2 box\n",
    "legend(loc=\"best\")\n",
    "ylabel(\"Temperature (Kelvin)\")\n",
    "xlabel(\"Time (Years)\")\n",
    "title(\"Temperature vs Time\")\n",
    "show()"
   ]
  },
  {
   "cell_type": "code",
   "execution_count": 11,
   "metadata": {},
   "outputs": [
    {
     "name": "stdout",
     "output_type": "stream",
     "text": [
      "[[0.49048753 0.49048753]\n",
      " [1.00111668 1.00111668]] 0.9809750696581944 2.0022333582159653\n"
     ]
    }
   ],
   "source": [
    "lambdatd = np.matrix.transpose(dTtd)\n",
    "invlambdatd = np.linalg.inv(lambdatd)\n",
    "Gtd = np.dot(lambdafon,invlambdatd)\n",
    "print(Gtd,Gtd[0][0] + Gtd[0][1],Gtd[1][0] + Gtd[1][1])"
   ]
  },
  {
   "cell_type": "code",
   "execution_count": 12,
   "metadata": {},
   "outputs": [
    {
     "data": {
      "image/png": "[encoded data removed]",
      "text/plain": [
       "<matplotlib.figure.Figure at 0x8a4a588>"
      ]
     },
     "metadata": {},
     "output_type": "display_data"
    }
   ],
   "source": [
    "plot(t,avgTtd[0])\n",
    "plot(t,avgTtd[1])\n",
    "title(\"Average Temperature\")\n",
    "show()"
   ]
  },
  {
   "cell_type": "code",
   "execution_count": 13,
   "metadata": {},
   "outputs": [
    {
     "data": {
      "image/png": "[encoded data removed]",
      "text/plain": [
       "<matplotlib.figure.Figure at 0x8a10f60>"
      ]
     },
     "metadata": {},
     "output_type": "display_data"
    }
   ],
   "source": [
    "# Bottom-up\n",
    "t = arange(0,maxtime,dt) # time array\n",
    "Tbu = zeros((2,length,maxtime))\n",
    "Teqbu = zeros((2,2))\n",
    "dTbu = zeros((2,2))\n",
    "a = zeros((length,maxtime))    # fractional area of hemisphere covered in ice array\n",
    "Tbu[0,:,0] = T10           # sets initial temperature for T_1 box\n",
    "Tbu[1,:,0] = T20           # sets initial temperature for T_2 box\n",
    "avgTbu = zeros((length,maxtime))\n",
    "avgTbu\n",
    "for i in range(0,length):\n",
    "    for j in range(0,len(t)-1):   # creates loop that cycles through all of the arrays\n",
    "        a[i][j] = newa(Tbu[0][i][j],Tbu[1][i][j])             # sets new a value  \n",
    "        if j < maxtime / 2.0:\n",
    "            Teqbu[i][0] = Tbu[0][i][j]\n",
    "            Teqbu[i][1] = Tbu[1][i][j]\n",
    "            Tbu[0][i][j+1] = Tbu[0][i][j] + (HdT1(Feq,Tbu[0][i][j],0.0)) / H * dt             # updates temperature for T_1 box\n",
    "            Tbu[1][i][j+1] = Tbu[1][i][j] + (HdT2(a[i][j],Feq,Tbu[1][i][j],0.0)) / H * dt  # updates temperature for T_2 box\n",
    "        else:\n",
    "            Tbu[0][i][j+1] = Tbu[0][i][j] + (HdT1(Feq,Tbu[0][i][j],epsilon[i][0])) / H * dt             # updates temperature for T_1 box\n",
    "            Tbu[1][i][j+1] = Tbu[1][i][j] + (HdT2(a[i][j],Feq,Tbu[1][i][j],epsilon[i][1])) / H * dt  # updates temperature for T_2 box\n",
    "    dTbu[i][0] = Tbu[0][i][-1] - Teqbu[i][0]\n",
    "    dTbu[i][1] = Tbu[1][i][-1] - Teqbu[i][1]\n",
    "plot(t,Tbu[0][0],label=\"$T_1$\")        # plots temperature vs time graph for T_1 box\n",
    "plot(t,Tbu[1][0],label=\"$T_2$\")        # plots temperature vs time graph for T_2 box\n",
    "legend(loc=\"best\")\n",
    "ylabel(\"Temperature (Kelvin)\")\n",
    "xlabel(\"Time (Years)\")\n",
    "title(\"Temperature vs Time\")\n",
    "show()"
   ]
  },
  {
   "cell_type": "code",
   "execution_count": 14,
   "metadata": {},
   "outputs": [
    {
     "name": "stdout",
     "output_type": "stream",
     "text": [
      "[[1.         0.        ]\n",
      " [0.18118283 2.02364753]]\n"
     ]
    }
   ],
   "source": [
    "lambdabu = np.matrix.transpose(dTbu)\n",
    "invlambdafoff = np.linalg.inv(lambdafoff)\n",
    "Gbu = np.dot(lambdabu,invlambdafoff)\n",
    "print(Gbu)"
   ]
  },
  {
   "cell_type": "code",
   "execution_count": 33,
   "metadata": {},
   "outputs": [],
   "source": [
    "length1 = 10\n",
    "rad = linspace(0,1,length1)\n",
    "forcing = zeros((length1,2))\n",
    "forcing[:,0] = rad\n",
    "forcing[:,1] = 1 - rad\n",
    "Tfon = zeros((2,length1,maxtime))\n",
    "Teqfon = zeros((length1,2))\n",
    "dTfon = zeros((length1,2))\n",
    "Tfon[0,:,0] = T10           # sets initial temperature for T_1 box\n",
    "Tfon[1,:,0] = T20\n",
    "\n",
    "for j in range(0,length1):\n",
    "    for k in range(0,len(t)-1):\n",
    "        for i in forcing:   # creates loop that cycles through all of the arrays\n",
    "            F = newF(Tfon[0][j][k],Tfon[1][j][k]) # sets new F value\n",
    "            a = newa(Tfon[0][j][k],Tfon[1][j][k])             # sets new a value  \n",
    "            if k < maxtime / 2.0:\n",
    "                Teqfon[j][0] = Tfon[0][j][k]\n",
    "                Teqfon[j][1] = Tfon[1][j][k]\n",
    "                Tfon[0][j][k+1] = Tfon[0][j][k] + (HdT1(F,Tfon[0][j][k],0.0)) / H * dt             # updates temperature for T_1 box\n",
    "                Tfon[1][j][k+1] = Tfon[1][j][k] + (HdT2(a,F,Tfon[1][j][k],0.0)) / H * dt  # updates temperature for T_2 box\n",
    "            else:\n",
    "                Tfon[0][j][k+1] = Tfon[0][j][k] + (HdT1(F,Tfon[0][j][k],i[0])) / H * dt             # updates temperature for T_1 box\n",
    "                Tfon[1][j][k+1] = Tfon[1][j][k] + (HdT2(a,F,Tfon[1][j][k],i[1])) / H * dt  # updates temperature for T_2 box\n",
    "            dTfon[j][0] = Tfon[0][j][-1] - Teqfon[j][0]\n",
    "            dTfon[j][1] = Tfon[1][j][-1] - Teqfon[j][1]"
   ]
  },
  {
   "cell_type": "code",
   "execution_count": 34,
   "metadata": {},
   "outputs": [
    {
     "data": {
      "text/plain": [
       "array([[2.40516417, 2.40516417, 2.40516417, 2.40516417, 2.40516417,\n",
       "        2.40516417, 2.40516417, 2.40516417, 2.40516417, 2.40516417],\n",
       "       [2.24197943, 2.24197943, 2.24197943, 2.24197943, 2.24197943,\n",
       "        2.24197943, 2.24197943, 2.24197943, 2.24197943, 2.24197943]])"
      ]
     },
     "execution_count": 34,
     "metadata": {},
     "output_type": "execute_result"
    }
   ],
   "source": [
    "np.matrix.transpose(dTfon)"
   ]
  },
  {
   "cell_type": "code",
   "execution_count": 427,
   "metadata": {},
   "outputs": [],
   "source": [
    "epsilon = [[-0.7,0.3],[-0.3,0.7]]\n",
    "t = arange(0,maxtime,dt) # time array\n",
    "Tfon = zeros((2,length,maxtime))\n",
    "Teqfon = zeros((2,2))\n",
    "dTfon = zeros((2,2))\n",
    "a = zeros((length,maxtime))    # fractional area of hemisphere covered in ice array\n",
    "F = zeros((length,maxtime))    # atmospheric heat transport array\n",
    "Tfon[0,:,0] = T10           # sets initial temperature for T_1 box\n",
    "Tfon[1,:,0] = T20           # sets initial temperature for T_2 box\n",
    "for i in range(0,length):\n",
    "    for j in range(0,len(t)-1):   # creates loop that cycles through all of the arrays\n",
    "        F[i][j] = newF(Tfon[0][i][j],Tfon[1][i][j]) # sets new F value\n",
    "        a[i][j] = newa(Tfon[0][i][j],Tfon[1][i][j])             # sets new a value  \n",
    "        if j < maxtime / 2.0:\n",
    "            Teqfon[i][0] = Tfon[0][i][j]\n",
    "            Teqfon[i][1] = Tfon[1][i][j]\n",
    "            Tfon[0][i][j+1] = Tfon[0][i][j] + (HdT1(F[i][j],Tfon[0][i][j],0.0)) / H * dt             # updates temperature for T_1 box\n",
    "            Tfon[1][i][j+1] = Tfon[1][i][j] + (HdT2(a[i][j],F[i][j],Tfon[1][i][j],0.0)) / H * dt  # updates temperature for T_2 box\n",
    "        else:\n",
    "            Tfon[0][i][j+1] = Tfon[0][i][j] + (HdT1(F[i][j],Tfon[0][i][j],epsilon[i][0])) / H * dt             # updates temperature for T_1 box\n",
    "            Tfon[1][i][j+1] = Tfon[1][i][j] + (HdT2(a[i][j],F[i][j],Tfon[1][i][j],epsilon[i][1])) / H * dt  # updates temperature for T_2 box\n",
    "    dTfon[i][0] = Tfon[0][i][-1] - Teqfon[i][0]\n",
    "    dTfon[i][1] = Tfon[1][i][-1] - Teqfon[i][1]"
   ]
  },
  {
   "cell_type": "code",
   "execution_count": 428,
   "metadata": {},
   "outputs": [
    {
     "name": "stdout",
     "output_type": "stream",
     "text": [
      "[[-1.46588183 -0.08026625]\n",
      " [-0.19555476  2.63249181]]\n"
     ]
    }
   ],
   "source": [
    "dTlistfon = np.matrix.transpose(dTfon)\n",
    "print(dTlistfon)"
   ]
  },
  {
   "cell_type": "code",
   "execution_count": 429,
   "metadata": {
    "collapsed": true
   },
   "outputs": [],
   "source": [
    "# Top-down\n",
    "t = arange(0,maxtime,dt) # time array\n",
    "Ttd = zeros((2,length,maxtime))\n",
    "avgTtd = zeros((length,maxtime))\n",
    "Teqtd = zeros((2,2))\n",
    "dTtd = zeros((2,2))\n",
    "F = zeros((length,maxtime))    # atmospheric heat transport array\n",
    "Ttd[0,:,0] = T10           # sets initial temperature for T_1 box\n",
    "Ttd[1,:,0] = T20           # sets initial temperature for T_2 box\n",
    "avgTtd[:,0] = (T10 + T20) * 0.5\n",
    "for i in range(0,length):\n",
    "    for j in range(0,len(t)-1):   # creates loop that cycles through all of the arrays\n",
    "        F[i][j] = newF(Ttd[0][i][j],Ttd[1][i][j]) # sets new F value\n",
    "        if j < maxtime / 2.0:\n",
    "            Teqtd[i][0] = Ttd[0][i][j]\n",
    "            Teqtd[i][1] = Ttd[1][i][j]\n",
    "            Ttd[0][i][j+1] = Ttd[0][i][j] + (HdT1(F[i][j],Ttd[0][i][j],0.0)) / H * dt             # updates temperature for T_1 box\n",
    "            Ttd[1][i][j+1] = Ttd[1][i][j] + (HdT2(aeq,F[i][j],Ttd[1][i][j],0.0)) / H * dt  # updates temperature for T_2 box\n",
    "            avgTtd[i][j+1] = (Ttd[0][i][j+1] + Ttd[1][i][j+1]) * 0.5\n",
    "        else:\n",
    "            Ttd[0][i][j+1] = Ttd[0][i][j] + (HdT1(F[i][j],Ttd[0][i][j],epsilon[i][0])) / H * dt             # updates temperature for T_1 box\n",
    "            Ttd[1][i][j+1] = Ttd[1][i][j] + (HdT2(aeq,F[i][j],Ttd[1][i][j],epsilon[i][1])) / H * dt  # updates temperature for T_2 box\n",
    "            avgTtd[i][j+1] = (Ttd[0][i][j+1] + Ttd[1][i][j+1]) * 0.5\n",
    "    dTtd[i][0] = Ttd[0][i][-1] - Teqtd[i][0]\n",
    "    dTtd[i][1] = Ttd[1][i][-1] - Teqtd[i][1]"
   ]
  },
  {
   "cell_type": "code",
   "execution_count": 430,
   "metadata": {},
   "outputs": [
    {
     "name": "stdout",
     "output_type": "stream",
     "text": [
      "[[-1.41994838 -0.27666838]\n",
      " [ 0.04063804  1.65597873]]\n",
      "[[-1.46588183 -0.08026625]\n",
      " [-0.19555476  2.63249181]]\n",
      "[[-1.4381119  -0.05764088]\n",
      " [-0.04692802  2.71722762]]\n"
     ]
    }
   ],
   "source": [
    "dTlisttd = np.matrix.transpose(dTtd)\n",
    "print(dTlisttd)\n",
    "print(dTlistfon)\n",
    "print(np.dot(Gtd,dTlisttd))"
   ]
  },
  {
   "cell_type": "code",
   "execution_count": 431,
   "metadata": {},
   "outputs": [
    {
     "name": "stdout",
     "output_type": "stream",
     "text": [
      "[[  1.27097108  20.74072277]\n",
      " [ 67.86027426  -2.1231163 ]]\n"
     ]
    }
   ],
   "source": [
    "print((dTlistfon-np.dot(Gtd,dTlisttd)) / (dTlistfon + np.dot(Gtd,dTlisttd) / 2.0) * 100)"
   ]
  },
  {
   "cell_type": "code",
   "execution_count": null,
   "metadata": {},
   "outputs": [],
   "source": []
  },
  {
   "cell_type": "code",
   "execution_count": null,
   "metadata": {
    "collapsed": true
   },
   "outputs": [],
   "source": []
  }
 ],
 "metadata": {
  "anaconda-cloud": {},
  "kernelspec": {
   "display_name": "Python 3",
   "language": "python",
   "name": "python3"
  },
  "language_info": {
   "codemirror_mode": {
    "name": "ipython",
    "version": 3
   },
   "file_extension": ".py",
   "mimetype": "text/x-python",
   "name": "python",
   "nbconvert_exporter": "python",
   "pygments_lexer": "ipython3",
   "version": "3.6.4"
  }
 },
 "nbformat": 4,
 "nbformat_minor": 1
}
