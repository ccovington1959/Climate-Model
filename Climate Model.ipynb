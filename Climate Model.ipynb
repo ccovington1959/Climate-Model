{
 "cells": [
  {
   "cell_type": "code",
   "execution_count": 219,
   "metadata": {
    "collapsed": true
   },
   "outputs": [],
   "source": [
    "%matplotlib inline\n",
    "from pylab import *"
   ]
  },
  {
   "cell_type": "code",
   "execution_count": 220,
   "metadata": {
    "collapsed": false
   },
   "outputs": [],
   "source": [
    "def HdT1(S1,F,A,B,T1,epsilon):\n",
    "    return S1-F-(A+B*T1)+epsilon\n",
    "def HdT2(S2,alpha,a,F,A,B,T2,epsilon):\n",
    "    return S2*(1-2*alpha*a)+F-(A+B*T2)+epsilon\n",
    "def C(T1):\n",
    "    top = T1 - 273.15\n",
    "    bottom = T1 - 35.86\n",
    "    fract = top / bottom\n",
    "    return 6.11 * exp(17.23 * fract)\n",
    "def newF(F0,gamma1,gamma2,T1,T2):\n",
    "    return F0 + gamma1 * (T1 - T2) + gamma2 * C(T1) * (T1 - T2)\n",
    "def newa(T1,T2,Tice):\n",
    "    phiicedeg = 30 + 30 * (T1 - Tice) / (T1 - T2)\n",
    "    phiicerad = phiicedeg * pi / 180.0\n",
    "    return 1 - sin(phiicerad)"
   ]
  },
  {
   "cell_type": "code",
   "execution_count": 256,
   "metadata": {
    "collapsed": false
   },
   "outputs": [
    {
     "data": {
      "image/png": "[encoded data removed]",
      "text/plain": [
       "<matplotlib.figure.Figure at 0x2c3420ec4e0>"
      ]
     },
     "metadata": {},
     "output_type": "display_data"
    }
   ],
   "source": [
    "dt = 1.0\n",
    "maxtime = 500\n",
    "t = arange(0,maxtime,dt)\n",
    "Tice = 271.15\n",
    "H = 10\n",
    "F0 = 3.0\n",
    "A = -49.7\n",
    "B = 0.29\n",
    "alpha = 0.29\n",
    "epsilon = 0.0\n",
    "S1 = 40.9\n",
    "S2 = 24.1\n",
    "gamma1 = 0.035\n",
    "gamma2 = 0.002852\n",
    "T1 = zeros(maxtime)\n",
    "T2 = zeros(maxtime)\n",
    "T1[0] = 350.0\n",
    "T2[0] = 260.0\n",
    "for i in range(0,len(t)-1):\n",
    "    F = newF(F0,gamma1,gamma2,T1[i],T2[i])\n",
    "    a = newa(T1[i],T2[i],Tice)\n",
    "    T1[i+1] = T1[i] + (HdT1(S1,F,A,B,T1[i],epsilon)) / H * dt\n",
    "    T2[i+1] = T2[i] + (HdT2(S2,alpha,a,F,A,B,T2[i],epsilon)) / H * dt\n",
    "plot(t,T1,label=\"$T_1$\")\n",
    "plot(t,T2,label=\"$T_2$\")\n",
    "legend(loc=\"best\")\n",
    "ylabel(\"Temperature (Kelvin)\")\n",
    "xlabel(\"Time (Years)\")\n",
    "title(\"Temperature vs Time\")\n",
    "show()"
   ]
  },
  {
   "cell_type": "code",
   "execution_count": null,
   "metadata": {
    "collapsed": false
   },
   "outputs": [],
   "source": []
  },
  {
   "cell_type": "code",
   "execution_count": null,
   "metadata": {
    "collapsed": false
   },
   "outputs": [],
   "source": []
  },
  {
   "cell_type": "code",
   "execution_count": null,
   "metadata": {
    "collapsed": false
   },
   "outputs": [],
   "source": []
  },
  {
   "cell_type": "code",
   "execution_count": null,
   "metadata": {
    "collapsed": false
   },
   "outputs": [],
   "source": []
  },
  {
   "cell_type": "code",
   "execution_count": 253,
   "metadata": {
    "collapsed": false
   },
   "outputs": [
    {
     "name": "stdout",
     "output_type": "stream",
     "text": [
      "[  3.50000000e+02  -5.27446983e+04   3.03659477e+13  -1.60868678e+22\n",
      "   8.52228684e+30  -4.51482376e+39   2.39180327e+48  -1.26709772e+57\n",
      "   6.71266174e+65  -3.55614464e+74]\n"
     ]
    }
   ],
   "source": [
    "print(T1)"
   ]
  },
  {
   "cell_type": "markdown",
   "metadata": {
    "collapsed": true
   },
   "source": [
    "# "
   ]
  }
 ],
 "metadata": {
  "anaconda-cloud": {},
  "kernelspec": {
   "display_name": "Python [Root]",
   "language": "python",
   "name": "Python [Root]"
  }
 },
 "nbformat": 4,
 "nbformat_minor": 0
}
