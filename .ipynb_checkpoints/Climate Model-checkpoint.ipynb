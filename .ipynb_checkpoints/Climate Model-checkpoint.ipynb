{
 "cells": [
  {
   "cell_type": "code",
   "execution_count": 61,
   "metadata": {
    "collapsed": true
   },
   "outputs": [],
   "source": [
    "%matplotlib inline\n",
    "from pylab import *"
   ]
  },
  {
   "cell_type": "code",
   "execution_count": 62,
   "metadata": {
    "collapsed": false
   },
   "outputs": [],
   "source": [
    "def HdT1(S1,F,A,B,T1,epsilon): # function that gives the value of H*dT_1/dt\n",
    "    return S1-F-(A+B*T1)+epsilon\n",
    "\n",
    "def HdT2(S2,alpha,a,F,A,B,T2,epsilon): # function that gives the value of H*dT_2/dt\n",
    "    return S2*(1-2*alpha*a)+F-(A+B*T2)+epsilon\n",
    "\n",
    "def C(T1):               # function that gives value of C(T_1)\n",
    "    top = T1 - 273.15    # top of fraction in exponential\n",
    "    bottom = T1 - 35.86  # bottom of fraction in exponential\n",
    "    fract = top / bottom # fraction in exponential\n",
    "    return 6.11 * exp(17.23 * fract)\n",
    "\n",
    "def newF(F0,gamma1,gamma2,T1,T2): # function that gives value of atmospheric heat transport parameter\n",
    "    return F0 + gamma1 * (T1 - T2) + gamma2 * C(T1) * (T1 - T2)\n",
    "\n",
    "def newa(T1,T2,Tice): # function that gives value of fractional area of hemisphere covered in ice\n",
    "    phiicedeg = 30 + 30 * (T1 - Tice) / (T1 - T2) # phi_ice in degrees\n",
    "    phiicerad = phiicedeg * pi / 180.0            # phi_ice in radians\n",
    "    return 1 - sin(phiicerad)"
   ]
  },
  {
   "cell_type": "code",
   "execution_count": 63,
   "metadata": {
    "collapsed": true
   },
   "outputs": [],
   "source": [
    "dt = 1.0                 # time step\n",
    "maxtime = 500            # length of simulation\n",
    "t = arange(0,maxtime,dt) # time array\n",
    "Tice = 271.15            # temperature of ice\n",
    "H = 10                   # heat capacity of upper ocean layer\n",
    "F0 = 3.0                 # F_0 value to be used to find value of atmospheric heat transport parameter\n",
    "A = -49.7                # Budyko-Sellers constant\n",
    "B = 0.29                 # Budyko-Sellers constant\n",
    "alpha = 0.29             # effective ice albedo\n",
    "epsilon = 0.0            # forcing parameter\n",
    "S1 = 40.9                # net incoming solar flux for T_1 box\n",
    "S2 = 24.1                # net incoming solar flux for T_2 box\n",
    "gamma1 = 0.035           # constant used to find value of atmospheric heat transport parameter\n",
    "gamma2 = 0.002852        # constant used to find value of atmospheric heat transport parameter\n",
    "T10 = 280.0              # initial temperature of T_1 box in kelvin\n",
    "T20 = 260.0              # initial temperature of T_2 box in kelvin"
   ]
  },
  {
   "cell_type": "code",
   "execution_count": 64,
   "metadata": {
    "collapsed": false
   },
   "outputs": [
    {
     "data": {
      "image/png": "[encoded data removed]",
      "text/plain": [
       "<matplotlib.figure.Figure at 0x17b866190b8>"
      ]
     },
     "metadata": {},
     "output_type": "display_data"
    }
   ],
   "source": [
    "T1 = zeros(maxtime)   # temperature array for T_1 box\n",
    "T2 = zeros(maxtime)   # temperature array for T_2 box\n",
    "a = zeros(maxtime)    # fractional area of hemisphere covered in ice array\n",
    "F = zeros(maxtime)    # atmospheric heat transport array\n",
    "T1[0] = T10           # sets initial temperature for T_1 box\n",
    "T2[0] = T20           # sets initial temperature for T_2 box\n",
    "for i in range(0,len(t)-1):                   # creates loop that cycles through all of the arrays\n",
    "    F[i] = newF(F0,gamma1,gamma2,T1[i],T2[i]) # sets new F value\n",
    "    a[i] = newa(T1[i],T2[i],Tice)             # sets new a value\n",
    "    T1[i+1] = T1[i] + (HdT1(S1,F[i],A,B,T1[i],epsilon)) / H * dt             # updates temperature for T_1 box\n",
    "    T2[i+1] = T2[i] + (HdT2(S2,alpha,a[i],F[i],A,B,T2[i],epsilon)) / H * dt  # updates temperature for T_2 box\n",
    "plot(t,T1,label=\"$T_1$\")        # plots temperature vs time graph for T_1 box\n",
    "plot(t,T2,label=\"$T_2$\")        # plots temperature vs time graph for T_2 box\n",
    "legend(loc=\"best\")\n",
    "ylabel(\"Temperature (Kelvin)\")\n",
    "xlabel(\"Time (Years)\")\n",
    "title(\"Temperature vs Time\")\n",
    "show()"
   ]
  },
  {
   "cell_type": "code",
   "execution_count": 65,
   "metadata": {
    "collapsed": false
   },
   "outputs": [],
   "source": [
    "afix = a[-2]             # a value at equilibrium\n",
    "dT1phi = T1[-1] - T1[0]  # ΔT_1,α for a fixed a value\n",
    "dT2phi = T2[-1] - T2[0]  # ΔT_2,α for a fixed a value"
   ]
  },
  {
   "cell_type": "code",
   "execution_count": 58,
   "metadata": {
    "collapsed": false
   },
   "outputs": [
    {
     "data": {
      "image/png": "[encoded data removed]",
      "text/plain": [
       "<matplotlib.figure.Figure at 0x17b8657d668>"
      ]
     },
     "metadata": {},
     "output_type": "display_data"
    }
   ],
   "source": [
    "epsilon = 0.0\n",
    "maxtime = 1200\n",
    "t = arange(0,maxtime,dt)\n",
    "T1 = zeros(maxtime)\n",
    "T2 = zeros(maxtime)\n",
    "F = zeros(maxtime)\n",
    "T1[0] = T10\n",
    "T2[0] = T20\n",
    "for i in range(0,len(t)-1):\n",
    "    F[i] = newF(F0,gamma1,gamma2,T1[i],T2[i])\n",
    "    if i <= 500:\n",
    "        a = newa(T1[i],T2[i],Tice)\n",
    "    else:\n",
    "        epsilon = 1.0\n",
    "        a = afix\n",
    "    T1[i+1] = T1[i] + (HdT1(S1,F[i],A,B,T1[i],epsilon)) / H * dt\n",
    "    T2[i+1] = T2[i] + (HdT2(S2,alpha,a,F[i],A,B,T2[i],epsilon)) / H * dt\n",
    "plot(t,T1,label=\"$T_1$\")\n",
    "plot(t,T2,label=\"$T_2$\")\n",
    "legend(loc=\"best\")\n",
    "ylabel(\"Temperature (Kelvin)\")\n",
    "xlabel(\"Time (Years)\")\n",
    "title(\"Temperature vs Time\")\n",
    "show()"
   ]
  },
  {
   "cell_type": "code",
   "execution_count": 59,
   "metadata": {
    "collapsed": false
   },
   "outputs": [
    {
     "name": "stdout",
     "output_type": "stream",
     "text": [
      "12.5427891315 4.65309109337\n",
      "15.3382590974 8.75488786902\n",
      "0.817745289855 0.531484944523\n",
      "15.3382590974 8.75488786902\n",
      "-0.222874668195 -0.881520841382\n",
      "-0.0145306365461 -0.100688992774\n"
     ]
    }
   ],
   "source": [
    "dT10phi = T1[-1] - T1[0]\n",
    "dT20phi = T2[-1] - T2[0]\n",
    "GT1phi = dT1phi / dT10phi\n",
    "GT2phi = dT2phi / dT20phi\n",
    "lambdaT1 = dT10phi / epsilon\n",
    "lambdaT2 = dT20phi / epsilon\n",
    "fT1 = -1.0 / GT1phi + 1.0\n",
    "fT2 = -1.0 / GT2phi + 1.0\n",
    "cT1 = fT1 / lambdaT1\n",
    "cT2 = fT2 / lambdaT2\n",
    "print(dT1phi,dT2phi)\n",
    "print(dT10phi,dT20phi)\n",
    "print(GT1phi,GT2phi)\n",
    "print(lambdaT1,lambdaT2)\n",
    "print(fT1,fT2)\n",
    "print(cT1,cT2)"
   ]
  },
  {
   "cell_type": "code",
   "execution_count": 43,
   "metadata": {
    "collapsed": false
   },
   "outputs": [
    {
     "data": {
      "text/plain": [
       "[<matplotlib.lines.Line2D at 0x17b878e0438>]"
      ]
     },
     "execution_count": 43,
     "metadata": {},
     "output_type": "execute_result"
    },
    {
     "data": {
      "image/png": "[encoded data removed]",
      "text/plain": [
       "<matplotlib.figure.Figure at 0x17b8788ff60>"
      ]
     },
     "metadata": {},
     "output_type": "display_data"
    }
   ],
   "source": [
    "plot(t,F)"
   ]
  },
  {
   "cell_type": "code",
   "execution_count": null,
   "metadata": {
    "collapsed": false
   },
   "outputs": [],
   "source": []
  },
  {
   "cell_type": "code",
   "execution_count": null,
   "metadata": {
    "collapsed": true
   },
   "outputs": [],
   "source": []
  }
 ],
 "metadata": {
  "anaconda-cloud": {},
  "kernelspec": {
   "display_name": "Python [Root]",
   "language": "python",
   "name": "Python [Root]"
  },
  "language_info": {
   "codemirror_mode": {
    "name": "ipython",
    "version": 3
   },
   "file_extension": ".py",
   "mimetype": "text/x-python",
   "name": "python",
   "nbconvert_exporter": "python",
   "pygments_lexer": "ipython3",
   "version": "3.5.2"
  }
 },
 "nbformat": 4,
 "nbformat_minor": 0
}
