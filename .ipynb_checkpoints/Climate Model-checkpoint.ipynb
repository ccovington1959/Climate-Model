{
 "cells": [
  {
   "cell_type": "code",
   "execution_count": 24,
   "metadata": {
    "collapsed": true
   },
   "outputs": [],
   "source": [
    "%matplotlib inline\n",
    "from pylab import *"
   ]
  },
  {
   "cell_type": "code",
   "execution_count": 25,
   "metadata": {
    "collapsed": false
   },
   "outputs": [],
   "source": [
    "def HdT1(S1,F,A,B,T1,epsilon):\n",
    "    return S1-F-(A+B*T1)+epsilon\n",
    "def HdT2(S2,alpha,a,F,A,B,T2,epsilon):\n",
    "    return S2*(1-2*alpha*a)+F-(A+B*T2)+epsilon\n",
    "def C(T1):\n",
    "    top = T1 - 273.15\n",
    "    bottom = T1 - 35.86\n",
    "    fract = top / bottom\n",
    "    return 6.11 * exp(17.23 * fract)\n",
    "def newF(F0,gamma1,gamma2,T1,T2):\n",
    "    return F0 + gamma1 * (T1 - T2) + gamma2 * C(T1) * (T1 - T2)\n",
    "def newa(T1,T2,Tice):\n",
    "    phiicedeg = 30 + 30 * (T1 - Tice) / (T1 - T2)\n",
    "    phiicerad = phiicedeg * pi / 180.0\n",
    "    return 1 - sin(phiicerad)"
   ]
  },
  {
   "cell_type": "code",
   "execution_count": 30,
   "metadata": {
    "collapsed": false
   },
   "outputs": [
    {
     "data": {
      "image/png": "[encoded data removed]",
      "text/plain": [
       "<matplotlib.figure.Figure at 0x17b85ad8b38>"
      ]
     },
     "metadata": {},
     "output_type": "display_data"
    }
   ],
   "source": [
    "dt = 1.0\n",
    "maxtime = 500\n",
    "t = arange(0,maxtime,dt)\n",
    "Tice = 271.15\n",
    "H = 10\n",
    "F0 = 3.0\n",
    "A = -49.7\n",
    "B = 0.29\n",
    "alpha = 0.29\n",
    "epsilon = 0.0\n",
    "S1 = 40.9\n",
    "S2 = 24.1\n",
    "gamma1 = 0.035\n",
    "gamma2 = 0.002852\n",
    "T1 = zeros(maxtime)\n",
    "T2 = zeros(maxtime)\n",
    "a = zeros(maxtime)\n",
    "F = zeros(maxtime)\n",
    "T1[0] = 280.0\n",
    "T2[0] = 260.0\n",
    "for i in range(0,len(t)-1):\n",
    "    F[i] = newF(F0,gamma1,gamma2,T1[i],T2[i])\n",
    "    a[i] = newa(T1[i],T2[i],Tice)\n",
    "    T1[i+1] = T1[i] + (HdT1(S1,F[i],A,B,T1[i],epsilon)) / H * dt\n",
    "    T2[i+1] = T2[i] + (HdT2(S2,alpha,a[i],F[i],A,B,T2[i],epsilon)) / H * dt\n",
    "plot(t,T1,label=\"$T_1$\")\n",
    "plot(t,T2,label=\"$T_2$\")\n",
    "legend(loc=\"best\")\n",
    "ylabel(\"Temperature (Kelvin)\")\n",
    "xlabel(\"Time (Years)\")\n",
    "title(\"Temperature vs Time\")\n",
    "show()"
   ]
  },
  {
   "cell_type": "code",
   "execution_count": 31,
   "metadata": {
    "collapsed": false
   },
   "outputs": [],
   "source": [
    "afix = a[-1]\n",
    "dT1phi = T1[-1] - T1[0]\n",
    "dT2phi = T2[-1] - T2[0]"
   ]
  },
  {
   "cell_type": "code",
   "execution_count": 32,
   "metadata": {
    "collapsed": false
   },
   "outputs": [
    {
     "data": {
      "image/png": "[encoded data removed]",
      "text/plain": [
       "<matplotlib.figure.Figure at 0x17b86371358>"
      ]
     },
     "metadata": {},
     "output_type": "display_data"
    }
   ],
   "source": [
    "epsilon = 0.0\n",
    "dt = 1.0\n",
    "maxtime = 1200\n",
    "t = arange(0,maxtime,dt)\n",
    "T1 = zeros(maxtime)\n",
    "T2 = zeros(maxtime)\n",
    "F = zeros(maxtime)\n",
    "T1[0] = 280.0\n",
    "T2[0] = 260.0\n",
    "for i in range(0,len(t)-1):\n",
    "    F[i] = newF(F0,gamma1,gamma2,T1[i],T2[i])\n",
    "    if i <= 500:\n",
    "        a = newa(T1[i],T2[i],Tice)\n",
    "    else:\n",
    "        epsilon = 1.0\n",
    "        a = afix\n",
    "    T1[i+1] = T1[i] + (HdT1(S1,F[i],A,B,T1[i],epsilon)) / H * dt\n",
    "    T2[i+1] = T2[i] + (HdT2(S2,alpha,a,F[i],A,B,T2[i],epsilon)) / H * dt\n",
    "plot(t,T1,label=\"$T_1$\")\n",
    "plot(t,T2,label=\"$T_2$\")\n",
    "legend(loc=\"best\")\n",
    "ylabel(\"Temperature (Kelvin)\")\n",
    "xlabel(\"Time (Years)\")\n",
    "title(\"Temperature vs Time\")\n",
    "show()"
   ]
  },
  {
   "cell_type": "code",
   "execution_count": 34,
   "metadata": {
    "collapsed": false
   },
   "outputs": [
    {
     "name": "stdout",
     "output_type": "stream",
     "text": [
      "0.733430120803 0.278769143192\n",
      "17.1015462492 16.6915571791\n",
      "-0.363456410688 -2.58719759493\n",
      "-0.0212528390937 -0.155000373372\n"
     ]
    }
   ],
   "source": [
    "dT10phi = T1[-1] - T1[0]\n",
    "dT20phi = T2[-1] - T2[0]\n",
    "GT1phi = dT1phi / dT10phi\n",
    "GT2phi = dT2phi / dT20phi\n",
    "lambdaT1 = dT10phi / epsilon\n",
    "lambdaT2 = dT20phi / epsilon\n",
    "fT1 = -1.0 / GT1phi + 1.0\n",
    "fT2 = -1.0 / GT2phi + 1.0\n",
    "cT1 = fT1 / lambdaT1\n",
    "cT2 = fT2 / lambdaT2\n",
    "print(GT1phi,GT2phi)\n",
    "print(lambdaT1,lambdaT2)\n",
    "print(fT1,fT2)\n",
    "print(cT1,cT2)"
   ]
  },
  {
   "cell_type": "code",
   "execution_count": null,
   "metadata": {
    "collapsed": false
   },
   "outputs": [],
   "source": []
  },
  {
   "cell_type": "code",
   "execution_count": null,
   "metadata": {
    "collapsed": false
   },
   "outputs": [],
   "source": []
  },
  {
   "cell_type": "markdown",
   "metadata": {
    "collapsed": true
   },
   "source": []
  }
 ],
 "metadata": {
  "anaconda-cloud": {},
  "kernelspec": {
   "display_name": "Python [Root]",
   "language": "python",
   "name": "Python [Root]"
  },
  "language_info": {
   "codemirror_mode": {
    "name": "ipython",
    "version": 3
   },
   "file_extension": ".py",
   "mimetype": "text/x-python",
   "name": "python",
   "nbconvert_exporter": "python",
   "pygments_lexer": "ipython3",
   "version": "3.5.2"
  }
 },
 "nbformat": 4,
 "nbformat_minor": 0
}
