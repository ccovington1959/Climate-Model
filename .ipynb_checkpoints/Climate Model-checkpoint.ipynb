{
 "cells": [
  {
   "cell_type": "code",
   "execution_count": 201,
   "metadata": {
    "collapsed": true
   },
   "outputs": [],
   "source": [
    "%matplotlib inline\n",
    "from pylab import *"
   ]
  },
  {
   "cell_type": "code",
   "execution_count": 214,
   "metadata": {
    "collapsed": false
   },
   "outputs": [],
   "source": [
    "Tice = 271.15            # temperature of ice\n",
    "H = 1                    # heat capacity of upper ocean layer\n",
    "F0 = 3.0                 # F_0 value to be used to find value of atmospheric heat transport parameter\n",
    "A = -49.7                # Budyko-Sellers constant\n",
    "B = 0.29                 # Budyko-Sellers constant\n",
    "alpha = 0.29             # effective ice albedo\n",
    "epsilon = [[1.0,0.0],[0.0,1.0]]            # forcing parameter matrix\n",
    "length = len(epsilon)\n",
    "S1 = 40.9                # net incoming solar flux for T_1 box\n",
    "S2 = 24.1                # net incoming solar flux for T_2 box\n",
    "gamma1 = 0.035           # constant used to find value of atmospheric heat transport parameter\n",
    "gamma2 = 0.002852        # constant used to find value of atmospheric heat transport parameter\n",
    "T10 = 280.0              # initial temperature of T_1 box in kelvin\n",
    "T20 = 260.0              # initial temperature of T_2 box in kelvin"
   ]
  },
  {
   "cell_type": "code",
   "execution_count": 207,
   "metadata": {
    "collapsed": true
   },
   "outputs": [],
   "source": [
    "def HdT1(F,T1,epsilon): # function that gives the value of H*dT_1/dt\n",
    "    return S1-F-(A+B*T1)+epsilon\n",
    "\n",
    "def HdT2(a,F,T2,epsilon): # function that gives the value of H*dT_2/dt\n",
    "    return S2*(1-2*alpha*a)+F-(A+B*T2)+epsilon\n",
    "\n",
    "def C(T1):               # function that gives value of C(T_1)\n",
    "    top = T1 - 273.15    # top of fraction in exponential\n",
    "    bottom = T1 - 35.86  # bottom of fraction in exponential\n",
    "    fract = top / bottom # fraction in exponential\n",
    "    return 6.11 * exp(17.23 * fract)\n",
    "\n",
    "def newF(T1,T2): # function that gives value of atmospheric heat transport parameter\n",
    "    return F0 + gamma1 * (T1 - T2) + gamma2 * C(T1) * (T1 - T2)\n",
    "\n",
    "def newa(T1,T2): # function that gives value of fractional area of hemisphere covered in ice\n",
    "    phiicedeg = 30 + 30 * (T1 - Tice) / (T1 - T2) # phi_ice in degrees\n",
    "    phiicerad = phiicedeg * pi / 180.0            # phi_ice in radians\n",
    "    return 1 - sin(phiicerad)"
   ]
  },
  {
   "cell_type": "code",
   "execution_count": 248,
   "metadata": {
    "collapsed": false
   },
   "outputs": [
    {
     "data": {
      "image/png": "[encoded data removed]",
      "text/plain": [
       "<matplotlib.figure.Figure at 0x20fa9077320>"
      ]
     },
     "metadata": {},
     "output_type": "display_data"
    }
   ],
   "source": [
    "# With all feedbacks on and no forcing\n",
    "dt = 1.0                 # time step\n",
    "maxtime = 1000            # length of simulation\n",
    "t = arange(0,maxtime,dt) # time array\n",
    "T1 = zeros(maxtime)   # temperature array for T_1 box\n",
    "T2 = zeros(maxtime)   # temperature array for T_2 box\n",
    "a = zeros(maxtime)    # fractional area of hemisphere covered in ice array\n",
    "F = zeros(maxtime)    # atmospheric heat transport array\n",
    "T1[0] = T10           # sets initial temperature for T_1 box\n",
    "T2[0] = T20           # sets initial temperature for T_2 box\n",
    "for i in range(0,len(t)-1):                   # creates loop that cycles through all of the arrays\n",
    "    F[i] = newF(T1[i],T2[i]) # sets new F value\n",
    "    a[i] = newa(T1[i],T2[i])             # sets new a value\n",
    "    T1[i+1] = T1[i] + (HdT1(F[i],T1[i],0.0)) / H * dt             # updates temperature for T_1 box\n",
    "    T2[i+1] = T2[i] + (HdT2(a[i],F[i],T2[i],0.0)) / H * dt  # updates temperature for T_2 box\n",
    "plot(t,T1,label=\"$T_1$\")        # plots temperature vs time graph for T_1 box\n",
    "plot(t,T2,label=\"$T_2$\")        # plots temperature vs time graph for T_2 box\n",
    "legend(loc=\"best\")\n",
    "ylabel(\"Temperature (Kelvin)\")\n",
    "xlabel(\"Time (Years)\")\n",
    "title(\"Temperature vs Time\")\n",
    "show()"
   ]
  },
  {
   "cell_type": "code",
   "execution_count": 249,
   "metadata": {
    "collapsed": false
   },
   "outputs": [],
   "source": [
    "aeq = a[-2]             # a value at equilibrium\n",
    "Feq = F[-2]"
   ]
  },
  {
   "cell_type": "code",
   "execution_count": 247,
   "metadata": {
    "collapsed": false
   },
   "outputs": [
    {
     "data": {
      "image/png": "[encoded data removed]",
      "text/plain": [
       "<matplotlib.figure.Figure at 0x20fa902ab38>"
      ]
     },
     "metadata": {},
     "output_type": "display_data"
    }
   ],
   "source": [
    "# With all feedbacks on\n",
    "t = arange(0,maxtime,dt) # time array\n",
    "Tfon = zeros((2,length,maxtime))\n",
    "Teqfon = zeros((2,2))\n",
    "dTfon = zeros((2,2))\n",
    "a = zeros((length,maxtime))    # fractional area of hemisphere covered in ice array\n",
    "F = zeros((length,maxtime))    # atmospheric heat transport array\n",
    "Tfon[0,:,0] = T10           # sets initial temperature for T_1 box\n",
    "Tfon[1,:,0] = T20           # sets initial temperature for T_2 box\n",
    "for i in range(0,length):\n",
    "    for j in range(0,len(t)-1):   # creates loop that cycles through all of the arrays\n",
    "        F[i][j] = newF(Tfon[0][i][j],Tfon[1][i][j]) # sets new F value\n",
    "        a[i][j] = newa(Tfon[0][i][j],Tfon[1][i][j])             # sets new a value  \n",
    "        if j < maxtime / 2.0:\n",
    "            Teqfon[i][0] = Tfon[0][i][j]\n",
    "            Teqfon[i][1] = Tfon[1][i][j]\n",
    "            Tfon[0][i][j+1] = Tfon[0][i][j] + (HdT1(F[i][j],Tfon[0][i][j],0.0)) / H * dt             # updates temperature for T_1 box\n",
    "            Tfon[1][i][j+1] = Tfon[1][i][j] + (HdT2(a[i][j],F[i][j],Tfon[1][i][j],0.0)) / H * dt  # updates temperature for T_2 box\n",
    "        else:\n",
    "            Tfon[0][i][j+1] = Tfon[0][i][j] + (HdT1(F[i][j],Tfon[0][i][j],epsilon[i][0])) / H * dt             # updates temperature for T_1 box\n",
    "            Tfon[1][i][j+1] = Tfon[1][i][j] + (HdT2(a[i][j],F[i][j],Tfon[1][i][j],epsilon[i][1])) / H * dt  # updates temperature for T_2 box\n",
    "    dTfon[i][0] = Tfon[0][i][-1] - Teqfon[i][0]\n",
    "    dTfon[i][1] = Tfon[1][i][-1] - Teqfon[i][1]\n",
    "plot(t,Tfon[0][1],label=\"$T_1$\")        # plots temperature vs time graph for T_1 box\n",
    "plot(t,Tfon[1][1],label=\"$T_2$\")        # plots temperature vs time graph for T_2 box\n",
    "legend(loc=\"best\")\n",
    "ylabel(\"Temperature (Kelvin)\")\n",
    "xlabel(\"Time (Years)\")\n",
    "title(\"Temperature vs Time\")\n",
    "show()"
   ]
  },
  {
   "cell_type": "code",
   "execution_count": null,
   "metadata": {
    "collapsed": false
   },
   "outputs": [],
   "source": [
    "lambdafon = zeros((2,2))\n",
    "for i in range(0,length):\n",
    "    lambdafon[i]"
   ]
  },
  {
   "cell_type": "code",
   "execution_count": 250,
   "metadata": {
    "collapsed": false
   },
   "outputs": [
    {
     "data": {
      "image/png": "[encoded data removed]",
      "text/plain": [
       "<matplotlib.figure.Figure at 0x20fa8f92cf8>"
      ]
     },
     "metadata": {},
     "output_type": "display_data"
    }
   ],
   "source": [
    "# With all feedbacks off\n",
    "t = arange(0,maxtime,dt) # time array\n",
    "Tfoff = zeros((2,length,maxtime))\n",
    "Teqfoff = zeros((2,2))\n",
    "dTfoff = zeros((2,2))\n",
    "Tfoff[0,:,0] = T10           # sets initial temperature for T_1 box\n",
    "Tfoff[1,:,0] = T20           # sets initial temperature for T_2 box\n",
    "for i in range(0,length):\n",
    "    for j in range(0,len(t)-1):   # creates loop that cycles through all of the arrays\n",
    "        if j < maxtime / 2.0:\n",
    "            Teqfoff[i][0] = Tfoff[0][i][j]\n",
    "            Teqfoff[i][1] = Tfoff[1][i][j]\n",
    "            Tfoff[0][i][j+1] = Tfoff[0][i][j] + (HdT1(Feq,Tfoff[0][i][j],0.0)) / H * dt             # updates temperature for T_1 box\n",
    "            Tfoff[1][i][j+1] = Tfoff[1][i][j] + (HdT2(aeq,Feq,Tfoff[1][i][j],0.0)) / H * dt  # updates temperature for T_2 box\n",
    "        else:\n",
    "            Tfoff[0][i][j+1] = Tfoff[0][i][j] + (HdT1(Feq,Tfoff[0][i][j],epsilon[i][0])) / H * dt             # updates temperature for T_1 box\n",
    "            Tfoff[1][i][j+1] = Tfoff[1][i][j] + (HdT2(aeq,Feq,Tfoff[1][i][j],epsilon[i][1])) / H * dt  # updates temperature for T_2 box\n",
    "    dTfoff[i][0] = Tfoff[0][i][-1] - Teqfoff[i][0]\n",
    "    dTfoff[i][1] = Tfoff[1][i][-1] - Teqfoff[i][1]\n",
    "plot(t,Tfoff[0][1],label=\"$T_1$\")        # plots temperature vs time graph for T_1 box\n",
    "plot(t,Tfoff[1][1],label=\"$T_2$\")        # plots temperature vs time graph for T_2 box\n",
    "legend(loc=\"best\")\n",
    "ylabel(\"Temperature (Kelvin)\")\n",
    "xlabel(\"Time (Years)\")\n",
    "title(\"Temperature vs Time\")\n",
    "show()"
   ]
  },
  {
   "cell_type": "code",
   "execution_count": 277,
   "metadata": {
    "collapsed": true
   },
   "outputs": [],
   "source": [
    "lambdafoff = zeros((2,2))\n",
    "for i in range(0,length):\n",
    "    lambdafoff[:,i] = dTfoff[i,:]"
   ]
  },
  {
   "cell_type": "code",
   "execution_count": 278,
   "metadata": {
    "collapsed": false
   },
   "outputs": [
    {
     "name": "stdout",
     "output_type": "stream",
     "text": [
      "dT 5.68434188608e-14 0.0\n",
      "Gain 4.23120954943e+13 inf\n",
      "Sensitivity inf nan\n",
      "Feedback term 1.0 1.0\n",
      "Coefficient 0.0 nan\n"
     ]
    },
    {
     "name": "stderr",
     "output_type": "stream",
     "text": [
      "C:\\Users\\Chace\\Anaconda3\\lib\\site-packages\\ipykernel\\__main__.py:5: RuntimeWarning: divide by zero encountered in double_scalars\n",
      "C:\\Users\\Chace\\Anaconda3\\lib\\site-packages\\ipykernel\\__main__.py:6: RuntimeWarning: divide by zero encountered in double_scalars\n",
      "C:\\Users\\Chace\\Anaconda3\\lib\\site-packages\\ipykernel\\__main__.py:7: RuntimeWarning: invalid value encountered in double_scalars\n"
     ]
    }
   ],
   "source": [
    "#ignore for now\n",
    "dT1feedoff = -T1eqfeedoff + T1[-1]\n",
    "dT2feedoff = -T2eqfeedoff + T2[-1]\n",
    "GT1feedoff = dT1feedon / dT1feedoff\n",
    "GT2feedoff = dT2feedon / dT2feedoff\n",
    "lambdaT1 = dT1feedoff / epsilon1\n",
    "lambdaT2 = dT2feedoff / epsilon2\n",
    "fT1 = -1.0 / GT1feedoff + 1.0\n",
    "fT2 = -1.0 / GT2feedoff + 1.0\n",
    "cT1 = fT1 / lambdaT1\n",
    "cT2 = fT2 / lambdaT2\n",
    "print(\"dT\",dT1feedoff,dT2feedoff)\n",
    "print(\"Gain\",GT1feedoff,GT2feedoff)\n",
    "print(\"Sensitivity\",lambdaT1,lambdaT2)\n",
    "print(\"Feedback term\",fT1,fT2)\n",
    "print(\"Coefficient\",cT1,cT2)"
   ]
  },
  {
   "cell_type": "code",
   "execution_count": 251,
   "metadata": {
    "collapsed": false
   },
   "outputs": [
    {
     "data": {
      "image/png": "[encoded data removed]",
      "text/plain": [
       "<matplotlib.figure.Figure at 0x20fa902d208>"
      ]
     },
     "metadata": {},
     "output_type": "display_data"
    }
   ],
   "source": [
    "# Top-down\n",
    "t = arange(0,maxtime,dt) # time array\n",
    "Ttd = zeros((2,length,maxtime))\n",
    "Teqtd = zeros((2,2))\n",
    "dTtd = zeros((2,2))\n",
    "F = zeros((length,maxtime))    # atmospheric heat transport array\n",
    "Ttd[0,:,0] = T10           # sets initial temperature for T_1 box\n",
    "Ttd[1,:,0] = T20           # sets initial temperature for T_2 box\n",
    "for i in range(0,length):\n",
    "    for j in range(0,len(t)-1):   # creates loop that cycles through all of the arrays\n",
    "        F[i][j] = newF(Ttd[0][i][j],Ttd[1][i][j]) # sets new F value\n",
    "        if j < maxtime / 2.0:\n",
    "            Teqtd[i][0] = Ttd[0][i][j]\n",
    "            Teqtd[i][1] = Ttd[1][i][j]\n",
    "            Ttd[0][i][j+1] = Ttd[0][i][j] + (HdT1(F[i][j],Ttd[0][i][j],0.0)) / H * dt             # updates temperature for T_1 box\n",
    "            Ttd[1][i][j+1] = Ttd[1][i][j] + (HdT2(aeq,F[i][j],Ttd[1][i][j],0.0)) / H * dt  # updates temperature for T_2 box\n",
    "        else:\n",
    "            Ttd[0][i][j+1] = Ttd[0][i][j] + (HdT1(F[i][j],Ttd[0][i][j],epsilon[i][0])) / H * dt             # updates temperature for T_1 box\n",
    "            Ttd[1][i][j+1] = Ttd[1][i][j] + (HdT2(aeq,F[i][j],Ttd[1][i][j],epsilon[i][1])) / H * dt  # updates temperature for T_2 box\n",
    "    dTtd[i][0] = Ttd[0][i][-1] - Teqtd[i][0]\n",
    "    dTtd[i][1] = Ttd[1][i][-1] - Teqtd[i][1]\n",
    "plot(t,Ttd[0][1],label=\"$T_1$\")        # plots temperature vs time graph for T_1 box\n",
    "plot(t,Ttd[1][1],label=\"$T_2$\")        # plots temperature vs time graph for T_2 box\n",
    "legend(loc=\"best\")\n",
    "ylabel(\"Temperature (Kelvin)\")\n",
    "xlabel(\"Time (Years)\")\n",
    "title(\"Temperature vs Time\")\n",
    "show()"
   ]
  },
  {
   "cell_type": "code",
   "execution_count": 274,
   "metadata": {
    "collapsed": false
   },
   "outputs": [],
   "source": [
    "lambdatd = zeros((2,2))\n",
    "for i in range(0,length):\n",
    "    lambdatd[:,i] = dTtd[i,:]"
   ]
  },
  {
   "cell_type": "code",
   "execution_count": 197,
   "metadata": {
    "collapsed": false
   },
   "outputs": [
    {
     "name": "stdout",
     "output_type": "stream",
     "text": [
      "dT_alpha 12.5430567519 4.65393034129\n",
      "dT_0 14.7429920219 5.90227093339\n",
      "Gain 0.850780949572 0.788498256656\n",
      "Sensitivity 14.7429920219 inf\n",
      "Feedback -0.175390681353 -0.268233622026\n",
      "Coefficient -0.0118965459042 -0.0\n"
     ]
    },
    {
     "name": "stderr",
     "output_type": "stream",
     "text": [
      "C:\\Users\\Chace\\Anaconda3\\lib\\site-packages\\ipykernel\\__main__.py:6: RuntimeWarning: divide by zero encountered in double_scalars\n"
     ]
    }
   ],
   "source": [
    "dT1topdown = T1[-1] - T1eqtopdown\n",
    "dT2topdown = T2[-1] - T2eqtopdown\n",
    "GT1phi = dT1phi / dT10phi\n",
    "GT2phi = dT2phi / dT20phi\n",
    "lambdaT1 = dT10phi / epsilon1\n",
    "lambdaT2 = dT20phi / epsilon2\n",
    "fT1 = -1.0 / GT1phi + 1.0\n",
    "fT2 = -1.0 / GT2phi + 1.0\n",
    "cT1 = fT1 / lambdaT1\n",
    "cT2 = fT2 / lambdaT2\n",
    "print(\"dT_alpha\",dT1phi,dT2phi)\n",
    "print('dT_0',dT10phi,dT20phi)\n",
    "print('Gain',GT1phi,GT2phi)\n",
    "print('Sensitivity',lambdaT1,lambdaT2)\n",
    "print('Feedback',fT1,fT2)\n",
    "print('Coefficient',cT1,cT2)"
   ]
  },
  {
   "cell_type": "code",
   "execution_count": 254,
   "metadata": {
    "collapsed": false
   },
   "outputs": [
    {
     "data": {
      "image/png": "[encoded data removed]",
      "text/plain": [
       "<matplotlib.figure.Figure at 0x20fa90694a8>"
      ]
     },
     "metadata": {},
     "output_type": "display_data"
    }
   ],
   "source": [
    "# Bottom-up\n",
    "t = arange(0,maxtime,dt) # time array\n",
    "Tbu = zeros((2,length,maxtime))\n",
    "Teqbu = zeros((2,2))\n",
    "dTbu = zeros((2,2))\n",
    "a = zeros((length,maxtime))    # fractional area of hemisphere covered in ice array\n",
    "F = zeros((length,maxtime))    # atmospheric heat transport array\n",
    "Tbu[0,:,0] = T10           # sets initial temperature for T_1 box\n",
    "Tbu[1,:,0] = T20           # sets initial temperature for T_2 box\n",
    "for i in range(0,length):\n",
    "    for j in range(0,len(t)-1):   # creates loop that cycles through all of the arrays\n",
    "        a[i][j] = newa(Tbu[0][i][j],Tbu[1][i][j])             # sets new a value  \n",
    "        if j < maxtime / 2.0:\n",
    "            Teqbu[i][0] = Tbu[0][i][j]\n",
    "            Teqbu[i][1] = Tbu[1][i][j]\n",
    "            Tbu[0][i][j+1] = Tbu[0][i][j] + (HdT1(Feq,Tbu[0][i][j],0.0)) / H * dt             # updates temperature for T_1 box\n",
    "            Tbu[1][i][j+1] = Tbu[1][i][j] + (HdT2(a[i][j],Feq,Tbu[1][i][j],0.0)) / H * dt  # updates temperature for T_2 box\n",
    "        else:\n",
    "            Tbu[0][i][j+1] = Tbu[0][i][j] + (HdT1(Feq,Tbu[0][i][j],epsilon[i][0])) / H * dt             # updates temperature for T_1 box\n",
    "            Tbu[1][i][j+1] = Tbu[1][i][j] + (HdT2(a[i][j],Feq,Tbu[1][i][j],epsilon[i][1])) / H * dt  # updates temperature for T_2 box\n",
    "    dTbu[i][0] = Tbu[0][i][-1] - Teqbu[i][0]\n",
    "    dTbu[i][1] = Tbu[1][i][-1] - Teqbu[i][1]\n",
    "plot(t,Tbu[0][1],label=\"$T_1$\")        # plots temperature vs time graph for T_1 box\n",
    "plot(t,Tbu[1][1],label=\"$T_2$\")        # plots temperature vs time graph for T_2 box\n",
    "legend(loc=\"best\")\n",
    "ylabel(\"Temperature (Kelvin)\")\n",
    "xlabel(\"Time (Years)\")\n",
    "title(\"Temperature vs Time\")\n",
    "show()"
   ]
  },
  {
   "cell_type": "code",
   "execution_count": 290,
   "metadata": {
    "collapsed": false
   },
   "outputs": [
    {
     "name": "stdout",
     "output_type": "stream",
     "text": [
      "0.0841\n",
      "[[ 1.          1.        ]\n",
      " [ 2.02364753  2.02364753]] 1.0\n"
     ]
    }
   ],
   "source": [
    "lambdabu = zeros((2,2))\n",
    "for i in range(0,length):\n",
    "    lambdabu[:,i] = dTbu[i,:]\n",
    "Gbu = zeros((2,2))\n",
    "invlambdafoff = zeros((2,2))\n",
    "term = 1.0 / (lambdafoff[0][0] * lambdafoff[1][1] - lambdafoff[0][1] * lambdafoff[1][0])\n",
    "invlambdafoff[0][0] = lambdafoff[1][1] * term\n",
    "invlambdafoff[0][1] = -lambdafoff[0][1] * term\n",
    "invlambdafoff[1][0] = -lambdafoff[1][0] * term\n",
    "invlambdafoff[1][1] = lambdafoff[0][0] * term\n",
    "print(term)\n",
    "for i in range(0,2):\n",
    "    for j in range(0,2):\n",
    "        Gbu[i][j] = lambdabu[i][j] * invlambdafoff[i][j] + lambdabu[i][j-1] * invlambdafoff[i-1][j]\n",
    "print(Gbu,invlambdafoff[0][0] * lambdabu[0][0] + invlambdafoff[1][0] * lambdabu[0][1])"
   ]
  },
  {
   "cell_type": "code",
   "execution_count": null,
   "metadata": {
    "collapsed": false
   },
   "outputs": [],
   "source": []
  },
  {
   "cell_type": "code",
   "execution_count": null,
   "metadata": {
    "collapsed": false
   },
   "outputs": [],
   "source": []
  },
  {
   "cell_type": "code",
   "execution_count": null,
   "metadata": {
    "collapsed": true
   },
   "outputs": [],
   "source": []
  }
 ],
 "metadata": {
  "anaconda-cloud": {},
  "kernelspec": {
   "display_name": "Python [Root]",
   "language": "python",
   "name": "Python [Root]"
  },
  "language_info": {
   "codemirror_mode": {
    "name": "ipython",
    "version": 3
   },
   "file_extension": ".py",
   "mimetype": "text/x-python",
   "name": "python",
   "nbconvert_exporter": "python",
   "pygments_lexer": "ipython3",
   "version": "3.5.2"
  }
 },
 "nbformat": 4,
 "nbformat_minor": 0
}
